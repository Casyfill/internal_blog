{
 "cells": [
  {
   "cell_type": "markdown",
   "metadata": {},
   "source": [
    "# StreetEasy Price Index Code\n+ date:2017-12-21\n+ tags:streeteasy, python, notebook\n+ author:Grant Long\n+ summary: StreetEasy fast implementation of Case-Shiller Home Price Indices, written in python."   
   ]
  },
  {
   "cell_type": "markdown",
   "metadata": {},
   "source": [

    "Here is a toy example using closings data from Downtown Manhattan from 1995 to present. All code needed should be contained within the zipped directory. Code was developed for Python 3.6, but should be backward compatible. Admittedly, exponential smoothing is not the best method for smoothing a non-stationary time series, but that's an issue for another day. Please keep db credentials close hold. "
   ]
  },
  {
   "cell_type": "code",
   "execution_count": 1,
   "metadata": {
    "collapsed": false
   },
   "outputs": [],
   "source": [
    "import numpy as np\n",
    "import pylab as plt\n",
    "import pandas as pd\n",
    "import warnings\n",
    "import pickle\n",
    "%matplotlib inline\n",
    "\n",
    "from pymysql import connect\n",
    "\n",
    "from preprocess import process_transactions, get_feature_matrix, get_date_sequence\n",
    "from pi import calculate_index\n",
    "\n",
    "warnings.simplefilter(action='ignore', category=FutureWarning)\n",
    "\n",
    "start = 1995\n"
   ]
  },
  {
   "cell_type": "code",
   "execution_count": 2,
   "metadata": {
    "collapsed": false
   },
   "outputs": [],
   "source": [
    "df = pd.read_csv('raw_df.csv')\n",
    "df = df.drop(columns='Unnamed: 0')\n"
   ]
  },
  {
   "cell_type": "code",
   "execution_count": 3,
   "metadata": {
    "collapsed": false
   },
   "outputs": [
    {
     "name": "stderr",
     "output_type": "stream",
     "text": [
      "/Users/grantl/anaconda3/envs/py36/lib/python3.6/site-packages/scipy/linalg/basic.py:1226: RuntimeWarning: internal gelsd driver lwork query error, required iwork dimension not returned. This is likely the result of LAPACK bug 0038, fixed in LAPACK 3.2.2 (released July 21, 2010). Falling back to 'gelss' driver.\n",
      "  warnings.warn(mesg, RuntimeWarning)\n"
     ]
    },
    {
     "data": {
      "image/png": "[encoded data removed]",
      "text/plain": [
       "<matplotlib.figure.Figure at 0x1144e52b0>"
      ]
     },
     "metadata": {},
     "output_type": "display_data"
    }
   ],
   "source": [
    "df.loc[:, 'trxnDate'] = pd.to_datetime(df['trxnDate'])\n",
    "\n",
    "match_df = process_transactions(df)\n",
    "\n",
    "XR, YR, DR = get_feature_matrix(match_df, start_year=start)\n",
    "resultR = calculate_index(XR,YR,DR)\n",
    "results_exp = pd.ewma(resultR, com=6)\n",
    "\n",
    "ax2 = pd.Series(resultR, index=XR.columns).rolling(window=6).mean().plot(alpha=.5, color='r')\n",
    "ax2 = pd.Series(resultR, index=XR.columns).rolling(window=12).mean().plot(alpha=.5, color='g')\n",
    "pd.Series(results_exp, index=XR.columns).plot(ax=ax2, color='k')"
   ]
  },
  {
   "cell_type": "code",
   "execution_count": 4,
   "metadata": {
    "collapsed": false
   },
   "outputs": [
    {
     "name": "stdout",
     "output_type": "stream",
     "text": [
      "5.1% annual change in Downtown Manhattan sales prices since 2012.\n"
     ]
    }
   ],
   "source": [
    "chg = ((results_exp[list(XR.columns).index('_2017-11')]\n",
    "        /results_exp[list(XR.columns).index('_2012-11')])**(1/5)-1)*100\n",
    "\n",
    "print('%0.1f%% annual change in Downtown Manhattan sales prices since 2012.' % (chg))"
   ]
  },
  {
   "cell_type": "code",
   "execution_count": null,
   "metadata": {
    "collapsed": true
   },
   "outputs": [],
   "source": []
  }
 ],
 "metadata": {
  "anaconda-cloud": {},
  "kernelspec": {
   "display_name": "Python [conda env:py36]",
   "language": "python",
   "name": "conda-env-py36-py"
  },
  "language_info": {
   "codemirror_mode": {
    "name": "ipython",
    "version": 3
   },
   "file_extension": ".py",
   "mimetype": "text/x-python",
   "name": "python",
   "nbconvert_exporter": "python",
   "pygments_lexer": "ipython3",
   "version": "3.6.3"
  }
 },
 "nbformat": 4,
 "nbformat_minor": 1
}
