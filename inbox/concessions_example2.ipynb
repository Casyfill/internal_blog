{
 "cells": [
  {
   "cell_type": "markdown",
   "metadata": {},
   "source": [
    "# StreetEasy Concessions(text mining), v2\n",
    "+ date:2018-7-20\n",
    "+ tags:streeteasy, python, notebook, text\n",
    "+ authors:Grant Long, Philipp Kats\n",
    "+ summary: StreetEasy fast implementation of concession detection"
   ]
  },
  {
   "cell_type": "markdown",
   "metadata": {},
   "source": [
    "Earlier this year we rewrote our concession code, so that it became faster and supports more patterns. Here is a breief overview of the new interface"
   ]
  },
  {
   "cell_type": "markdown",
   "metadata": {},
   "source": [
    "We're trying to decouple concessions and corresponding tags from the text-mining by itself, therefore there is now `SE.concessions.nlp submodule`"
   ]
  },
  {
   "cell_type": "code",
   "execution_count": 20,
   "metadata": {
    "collapsed": true
   },
   "outputs": [],
   "source": [
    "import pandas as pd\n",
    "\n",
    "from SE.concessions import (\n",
    "    get_rental_concession,\n",
    "    get_cash_concession,\n",
    "    clean_leading,\n",
    "    clean_trailing,\n",
    "    identify_concession\n",
    ")\n",
    "\n",
    "# from SE.misc.text import _lookaround"
   ]
  },
  {
   "cell_type": "code",
   "execution_count": 12,
   "metadata": {},
   "outputs": [],
   "source": [
    "def _highlight_true(s):\n",
    "    '''highlight True bool'''\n",
    "    m1 = s.dtype == 'bool'\n",
    "    return ['background-color: #CEF4FF' if (m1 and v) else '' for v in s]"
   ]
  },
  {
   "cell_type": "markdown",
   "metadata": {},
   "source": [
    "### Example of General Concessions Mining"
   ]
  },
  {
   "cell_type": "code",
   "execution_count": 13,
   "metadata": {},
   "outputs": [],
   "source": [
    "tests = ['* 1 Month Free upfront on a 12 month lease*  Escape from the grit of Brooklyn living...',\n",
    "         '**1/2 BROKER FEE!***\\r 3Br railroad with direct access to yard\\r Maujer St & Lorimer S...',\n",
    "         'just a normal sale with no concessions whatsoever!',\n",
    "         '*Price listed is net effective with 1 month free on a 12 month lease. Gross rent is $2,945.*\\n  This rarely available, ...',\n",
    "         'BKLYN GOLD IS NOW OFFERING 2 MONTH FREE ON ALL APARTMENTS!!!\\r \\r *NO BROKER FEES, AMENITY FEES, PET FEES OR MOVE IN FEES!*\\r \\r Come live',\n",
    "         'Are you looking for a large 1BR in north Williamsburg in a full amenity building under $3000?  Free storage (if you make a decision upon seeing the apartment)',\n",
    "         '*We would like to offer a $500 gift card to outside brokers for any leases with March 31 start or sooner.*',\n",
    "         '*We would like to offer a $500 gift card to outside brokers for any leases with March 31 start or sooner.*   Low Price!'\n",
    "        ]\n",
    "tests = pd.Series(tests)\n",
    "tests.name = 'descr'"
   ]
  },
  {
   "cell_type": "code",
   "execution_count": 14,
   "metadata": {
    "collapsed": false
   },
   "outputs": [],
   "source": [
    "concession = get_rental_concession(tests)"
   ]
  },
  {
   "cell_type": "code",
   "execution_count": 15,
   "metadata": {},
   "outputs": [
    {
     "data": {
      "text/html": [
       "<style  type=\"text/css\" >\n",
       "    #T_edce8318_8c3d_11e8_912d_8c85908ae04drow0_col0 {\n",
       "            background-color:  #CEF4FF;\n",
       "        }    #T_edce8318_8c3d_11e8_912d_8c85908ae04drow3_col0 {\n",
       "            background-color:  #CEF4FF;\n",
       "        }    #T_edce8318_8c3d_11e8_912d_8c85908ae04drow4_col0 {\n",
       "            background-color:  #CEF4FF;\n",
       "        }    #T_edce8318_8c3d_11e8_912d_8c85908ae04drow5_col1 {\n",
       "            background-color:  #CEF4FF;\n",
       "        }    #T_edce8318_8c3d_11e8_912d_8c85908ae04drow6_col1 {\n",
       "            background-color:  #CEF4FF;\n",
       "        }    #T_edce8318_8c3d_11e8_912d_8c85908ae04drow7_col1 {\n",
       "            background-color:  #CEF4FF;\n",
       "        }</style>  \n",
       "<table id=\"T_edce8318_8c3d_11e8_912d_8c85908ae04d\" > \n",
       "<thead>    <tr> \n",
       "        <th class=\"blank level0\" ></th> \n",
       "        <th class=\"col_heading level0 col0\" >rent_concession</th> \n",
       "        <th class=\"col_heading level0 col1\" >cash_concession</th> \n",
       "        <th class=\"col_heading level0 col2\" >deposit_concession</th> \n",
       "        <th class=\"col_heading level0 col3\" >descr</th> \n",
       "    </tr></thead> \n",
       "<tbody>    <tr> \n",
       "        <th id=\"T_edce8318_8c3d_11e8_912d_8c85908ae04dlevel0_row0\" class=\"row_heading level0 row0\" >0</th> \n",
       "        <td id=\"T_edce8318_8c3d_11e8_912d_8c85908ae04drow0_col0\" class=\"data row0 col0\" >True</td> \n",
       "        <td id=\"T_edce8318_8c3d_11e8_912d_8c85908ae04drow0_col1\" class=\"data row0 col1\" >False</td> \n",
       "        <td id=\"T_edce8318_8c3d_11e8_912d_8c85908ae04drow0_col2\" class=\"data row0 col2\" >False</td> \n",
       "        <td id=\"T_edce8318_8c3d_11e8_912d_8c85908ae04drow0_col3\" class=\"data row0 col3\" >* 1 Month Free upfront on a 12 month lease*  Escape from the grit of Brooklyn living...</td> \n",
       "    </tr>    <tr> \n",
       "        <th id=\"T_edce8318_8c3d_11e8_912d_8c85908ae04dlevel0_row1\" class=\"row_heading level0 row1\" >1</th> \n",
       "        <td id=\"T_edce8318_8c3d_11e8_912d_8c85908ae04drow1_col0\" class=\"data row1 col0\" >False</td> \n",
       "        <td id=\"T_edce8318_8c3d_11e8_912d_8c85908ae04drow1_col1\" class=\"data row1 col1\" >False</td> \n",
       "        <td id=\"T_edce8318_8c3d_11e8_912d_8c85908ae04drow1_col2\" class=\"data row1 col2\" >False</td> \n",
       "        <td id=\"T_edce8318_8c3d_11e8_912d_8c85908ae04drow1_col3\" class=\"data row1 col3\" >**1/2 BROKER FEE!***\r",
       " 3Br railroad with direct access to yard\r",
       " Maujer St & Lorimer S...</td> \n",
       "    </tr>    <tr> \n",
       "        <th id=\"T_edce8318_8c3d_11e8_912d_8c85908ae04dlevel0_row2\" class=\"row_heading level0 row2\" >2</th> \n",
       "        <td id=\"T_edce8318_8c3d_11e8_912d_8c85908ae04drow2_col0\" class=\"data row2 col0\" >False</td> \n",
       "        <td id=\"T_edce8318_8c3d_11e8_912d_8c85908ae04drow2_col1\" class=\"data row2 col1\" >False</td> \n",
       "        <td id=\"T_edce8318_8c3d_11e8_912d_8c85908ae04drow2_col2\" class=\"data row2 col2\" >False</td> \n",
       "        <td id=\"T_edce8318_8c3d_11e8_912d_8c85908ae04drow2_col3\" class=\"data row2 col3\" >just a normal sale with no concessions whatsoever!</td> \n",
       "    </tr>    <tr> \n",
       "        <th id=\"T_edce8318_8c3d_11e8_912d_8c85908ae04dlevel0_row3\" class=\"row_heading level0 row3\" >3</th> \n",
       "        <td id=\"T_edce8318_8c3d_11e8_912d_8c85908ae04drow3_col0\" class=\"data row3 col0\" >True</td> \n",
       "        <td id=\"T_edce8318_8c3d_11e8_912d_8c85908ae04drow3_col1\" class=\"data row3 col1\" >False</td> \n",
       "        <td id=\"T_edce8318_8c3d_11e8_912d_8c85908ae04drow3_col2\" class=\"data row3 col2\" >False</td> \n",
       "        <td id=\"T_edce8318_8c3d_11e8_912d_8c85908ae04drow3_col3\" class=\"data row3 col3\" >*Price listed is net effective with 1 month free on a 12 month lease. Gross rent is $2,945.*\n",
       "  This rarely available, ...</td> \n",
       "    </tr>    <tr> \n",
       "        <th id=\"T_edce8318_8c3d_11e8_912d_8c85908ae04dlevel0_row4\" class=\"row_heading level0 row4\" >4</th> \n",
       "        <td id=\"T_edce8318_8c3d_11e8_912d_8c85908ae04drow4_col0\" class=\"data row4 col0\" >True</td> \n",
       "        <td id=\"T_edce8318_8c3d_11e8_912d_8c85908ae04drow4_col1\" class=\"data row4 col1\" >False</td> \n",
       "        <td id=\"T_edce8318_8c3d_11e8_912d_8c85908ae04drow4_col2\" class=\"data row4 col2\" >False</td> \n",
       "        <td id=\"T_edce8318_8c3d_11e8_912d_8c85908ae04drow4_col3\" class=\"data row4 col3\" >BKLYN GOLD IS NOW OFFERING 2 MONTH FREE ON ALL APARTMENTS!!!\r",
       " \r",
       " *NO BROKER FEES, AMENITY FEES, PET FEES OR MOVE IN FEES!*\r",
       " \r",
       " Come live</td> \n",
       "    </tr>    <tr> \n",
       "        <th id=\"T_edce8318_8c3d_11e8_912d_8c85908ae04dlevel0_row5\" class=\"row_heading level0 row5\" >5</th> \n",
       "        <td id=\"T_edce8318_8c3d_11e8_912d_8c85908ae04drow5_col0\" class=\"data row5 col0\" >False</td> \n",
       "        <td id=\"T_edce8318_8c3d_11e8_912d_8c85908ae04drow5_col1\" class=\"data row5 col1\" >True</td> \n",
       "        <td id=\"T_edce8318_8c3d_11e8_912d_8c85908ae04drow5_col2\" class=\"data row5 col2\" >False</td> \n",
       "        <td id=\"T_edce8318_8c3d_11e8_912d_8c85908ae04drow5_col3\" class=\"data row5 col3\" >Are you looking for a large 1BR in north Williamsburg in a full amenity building under $3000?  Free storage (if you make a decision upon seeing the apartment)</td> \n",
       "    </tr>    <tr> \n",
       "        <th id=\"T_edce8318_8c3d_11e8_912d_8c85908ae04dlevel0_row6\" class=\"row_heading level0 row6\" >6</th> \n",
       "        <td id=\"T_edce8318_8c3d_11e8_912d_8c85908ae04drow6_col0\" class=\"data row6 col0\" >False</td> \n",
       "        <td id=\"T_edce8318_8c3d_11e8_912d_8c85908ae04drow6_col1\" class=\"data row6 col1\" >True</td> \n",
       "        <td id=\"T_edce8318_8c3d_11e8_912d_8c85908ae04drow6_col2\" class=\"data row6 col2\" >False</td> \n",
       "        <td id=\"T_edce8318_8c3d_11e8_912d_8c85908ae04drow6_col3\" class=\"data row6 col3\" >*We would like to offer a $500 gift card to outside brokers for any leases with March 31 start or sooner.*</td> \n",
       "    </tr>    <tr> \n",
       "        <th id=\"T_edce8318_8c3d_11e8_912d_8c85908ae04dlevel0_row7\" class=\"row_heading level0 row7\" >7</th> \n",
       "        <td id=\"T_edce8318_8c3d_11e8_912d_8c85908ae04drow7_col0\" class=\"data row7 col0\" >False</td> \n",
       "        <td id=\"T_edce8318_8c3d_11e8_912d_8c85908ae04drow7_col1\" class=\"data row7 col1\" >True</td> \n",
       "        <td id=\"T_edce8318_8c3d_11e8_912d_8c85908ae04drow7_col2\" class=\"data row7 col2\" >False</td> \n",
       "        <td id=\"T_edce8318_8c3d_11e8_912d_8c85908ae04drow7_col3\" class=\"data row7 col3\" >*We would like to offer a $500 gift card to outside brokers for any leases with March 31 start or sooner.*   Low Price!</td> \n",
       "    </tr></tbody> \n",
       "</table> "
      ],
      "text/plain": [
       "<pandas.io.formats.style.Styler at 0x11bba7198>"
      ]
     },
     "execution_count": 15,
     "metadata": {},
     "output_type": "execute_result"
    }
   ],
   "source": [
    "concession.join(tests).style.apply(_highlight_true)"
   ]
  },
  {
   "cell_type": "markdown",
   "metadata": {},
   "source": [
    "### Example of Cash Concession Mining"
   ]
  },
  {
   "cell_type": "code",
   "execution_count": 16,
   "metadata": {
    "collapsed": false
   },
   "outputs": [],
   "source": [
    "cash = get_cash_concession(tests)"
   ]
  },
  {
   "cell_type": "code",
   "execution_count": 17,
   "metadata": {},
   "outputs": [
    {
     "data": {
      "text/html": [
       "<style  type=\"text/css\" >\n",
       "    #T_f0b835fe_8c3d_11e8_aee9_8c85908ae04drow5_col3 {\n",
       "            background-color:  #CEF4FF;\n",
       "        }    #T_f0b835fe_8c3d_11e8_aee9_8c85908ae04drow6_col6 {\n",
       "            background-color:  #CEF4FF;\n",
       "        }    #T_f0b835fe_8c3d_11e8_aee9_8c85908ae04drow7_col6 {\n",
       "            background-color:  #CEF4FF;\n",
       "        }</style>  \n",
       "<table id=\"T_f0b835fe_8c3d_11e8_aee9_8c85908ae04d\" > \n",
       "<thead>    <tr> \n",
       "        <th class=\"blank level0\" ></th> \n",
       "        <th class=\"col_heading level0 col0\" >Uber Credit</th> \n",
       "        <th class=\"col_heading level0 col1\" >Free HD TV</th> \n",
       "        <th class=\"col_heading level0 col2\" >Amazon Prime</th> \n",
       "        <th class=\"col_heading level0 col3\" >Storage</th> \n",
       "        <th class=\"col_heading level0 col4\" >Netflix</th> \n",
       "        <th class=\"col_heading level0 col5\" >Gym Membership</th> \n",
       "        <th class=\"col_heading level0 col6\" >Gift Card</th> \n",
       "        <th class=\"col_heading level0 col7\" >Cash</th> \n",
       "    </tr></thead> \n",
       "<tbody>    <tr> \n",
       "        <th id=\"T_f0b835fe_8c3d_11e8_aee9_8c85908ae04dlevel0_row0\" class=\"row_heading level0 row0\" >0</th> \n",
       "        <td id=\"T_f0b835fe_8c3d_11e8_aee9_8c85908ae04drow0_col0\" class=\"data row0 col0\" >False</td> \n",
       "        <td id=\"T_f0b835fe_8c3d_11e8_aee9_8c85908ae04drow0_col1\" class=\"data row0 col1\" >False</td> \n",
       "        <td id=\"T_f0b835fe_8c3d_11e8_aee9_8c85908ae04drow0_col2\" class=\"data row0 col2\" >False</td> \n",
       "        <td id=\"T_f0b835fe_8c3d_11e8_aee9_8c85908ae04drow0_col3\" class=\"data row0 col3\" >False</td> \n",
       "        <td id=\"T_f0b835fe_8c3d_11e8_aee9_8c85908ae04drow0_col4\" class=\"data row0 col4\" >False</td> \n",
       "        <td id=\"T_f0b835fe_8c3d_11e8_aee9_8c85908ae04drow0_col5\" class=\"data row0 col5\" >False</td> \n",
       "        <td id=\"T_f0b835fe_8c3d_11e8_aee9_8c85908ae04drow0_col6\" class=\"data row0 col6\" >False</td> \n",
       "        <td id=\"T_f0b835fe_8c3d_11e8_aee9_8c85908ae04drow0_col7\" class=\"data row0 col7\" >False</td> \n",
       "    </tr>    <tr> \n",
       "        <th id=\"T_f0b835fe_8c3d_11e8_aee9_8c85908ae04dlevel0_row1\" class=\"row_heading level0 row1\" >1</th> \n",
       "        <td id=\"T_f0b835fe_8c3d_11e8_aee9_8c85908ae04drow1_col0\" class=\"data row1 col0\" >False</td> \n",
       "        <td id=\"T_f0b835fe_8c3d_11e8_aee9_8c85908ae04drow1_col1\" class=\"data row1 col1\" >False</td> \n",
       "        <td id=\"T_f0b835fe_8c3d_11e8_aee9_8c85908ae04drow1_col2\" class=\"data row1 col2\" >False</td> \n",
       "        <td id=\"T_f0b835fe_8c3d_11e8_aee9_8c85908ae04drow1_col3\" class=\"data row1 col3\" >False</td> \n",
       "        <td id=\"T_f0b835fe_8c3d_11e8_aee9_8c85908ae04drow1_col4\" class=\"data row1 col4\" >False</td> \n",
       "        <td id=\"T_f0b835fe_8c3d_11e8_aee9_8c85908ae04drow1_col5\" class=\"data row1 col5\" >False</td> \n",
       "        <td id=\"T_f0b835fe_8c3d_11e8_aee9_8c85908ae04drow1_col6\" class=\"data row1 col6\" >False</td> \n",
       "        <td id=\"T_f0b835fe_8c3d_11e8_aee9_8c85908ae04drow1_col7\" class=\"data row1 col7\" >False</td> \n",
       "    </tr>    <tr> \n",
       "        <th id=\"T_f0b835fe_8c3d_11e8_aee9_8c85908ae04dlevel0_row2\" class=\"row_heading level0 row2\" >2</th> \n",
       "        <td id=\"T_f0b835fe_8c3d_11e8_aee9_8c85908ae04drow2_col0\" class=\"data row2 col0\" >False</td> \n",
       "        <td id=\"T_f0b835fe_8c3d_11e8_aee9_8c85908ae04drow2_col1\" class=\"data row2 col1\" >False</td> \n",
       "        <td id=\"T_f0b835fe_8c3d_11e8_aee9_8c85908ae04drow2_col2\" class=\"data row2 col2\" >False</td> \n",
       "        <td id=\"T_f0b835fe_8c3d_11e8_aee9_8c85908ae04drow2_col3\" class=\"data row2 col3\" >False</td> \n",
       "        <td id=\"T_f0b835fe_8c3d_11e8_aee9_8c85908ae04drow2_col4\" class=\"data row2 col4\" >False</td> \n",
       "        <td id=\"T_f0b835fe_8c3d_11e8_aee9_8c85908ae04drow2_col5\" class=\"data row2 col5\" >False</td> \n",
       "        <td id=\"T_f0b835fe_8c3d_11e8_aee9_8c85908ae04drow2_col6\" class=\"data row2 col6\" >False</td> \n",
       "        <td id=\"T_f0b835fe_8c3d_11e8_aee9_8c85908ae04drow2_col7\" class=\"data row2 col7\" >False</td> \n",
       "    </tr>    <tr> \n",
       "        <th id=\"T_f0b835fe_8c3d_11e8_aee9_8c85908ae04dlevel0_row3\" class=\"row_heading level0 row3\" >3</th> \n",
       "        <td id=\"T_f0b835fe_8c3d_11e8_aee9_8c85908ae04drow3_col0\" class=\"data row3 col0\" >False</td> \n",
       "        <td id=\"T_f0b835fe_8c3d_11e8_aee9_8c85908ae04drow3_col1\" class=\"data row3 col1\" >False</td> \n",
       "        <td id=\"T_f0b835fe_8c3d_11e8_aee9_8c85908ae04drow3_col2\" class=\"data row3 col2\" >False</td> \n",
       "        <td id=\"T_f0b835fe_8c3d_11e8_aee9_8c85908ae04drow3_col3\" class=\"data row3 col3\" >False</td> \n",
       "        <td id=\"T_f0b835fe_8c3d_11e8_aee9_8c85908ae04drow3_col4\" class=\"data row3 col4\" >False</td> \n",
       "        <td id=\"T_f0b835fe_8c3d_11e8_aee9_8c85908ae04drow3_col5\" class=\"data row3 col5\" >False</td> \n",
       "        <td id=\"T_f0b835fe_8c3d_11e8_aee9_8c85908ae04drow3_col6\" class=\"data row3 col6\" >False</td> \n",
       "        <td id=\"T_f0b835fe_8c3d_11e8_aee9_8c85908ae04drow3_col7\" class=\"data row3 col7\" >False</td> \n",
       "    </tr>    <tr> \n",
       "        <th id=\"T_f0b835fe_8c3d_11e8_aee9_8c85908ae04dlevel0_row4\" class=\"row_heading level0 row4\" >4</th> \n",
       "        <td id=\"T_f0b835fe_8c3d_11e8_aee9_8c85908ae04drow4_col0\" class=\"data row4 col0\" >False</td> \n",
       "        <td id=\"T_f0b835fe_8c3d_11e8_aee9_8c85908ae04drow4_col1\" class=\"data row4 col1\" >False</td> \n",
       "        <td id=\"T_f0b835fe_8c3d_11e8_aee9_8c85908ae04drow4_col2\" class=\"data row4 col2\" >False</td> \n",
       "        <td id=\"T_f0b835fe_8c3d_11e8_aee9_8c85908ae04drow4_col3\" class=\"data row4 col3\" >False</td> \n",
       "        <td id=\"T_f0b835fe_8c3d_11e8_aee9_8c85908ae04drow4_col4\" class=\"data row4 col4\" >False</td> \n",
       "        <td id=\"T_f0b835fe_8c3d_11e8_aee9_8c85908ae04drow4_col5\" class=\"data row4 col5\" >False</td> \n",
       "        <td id=\"T_f0b835fe_8c3d_11e8_aee9_8c85908ae04drow4_col6\" class=\"data row4 col6\" >False</td> \n",
       "        <td id=\"T_f0b835fe_8c3d_11e8_aee9_8c85908ae04drow4_col7\" class=\"data row4 col7\" >False</td> \n",
       "    </tr>    <tr> \n",
       "        <th id=\"T_f0b835fe_8c3d_11e8_aee9_8c85908ae04dlevel0_row5\" class=\"row_heading level0 row5\" >5</th> \n",
       "        <td id=\"T_f0b835fe_8c3d_11e8_aee9_8c85908ae04drow5_col0\" class=\"data row5 col0\" >False</td> \n",
       "        <td id=\"T_f0b835fe_8c3d_11e8_aee9_8c85908ae04drow5_col1\" class=\"data row5 col1\" >False</td> \n",
       "        <td id=\"T_f0b835fe_8c3d_11e8_aee9_8c85908ae04drow5_col2\" class=\"data row5 col2\" >False</td> \n",
       "        <td id=\"T_f0b835fe_8c3d_11e8_aee9_8c85908ae04drow5_col3\" class=\"data row5 col3\" >True</td> \n",
       "        <td id=\"T_f0b835fe_8c3d_11e8_aee9_8c85908ae04drow5_col4\" class=\"data row5 col4\" >False</td> \n",
       "        <td id=\"T_f0b835fe_8c3d_11e8_aee9_8c85908ae04drow5_col5\" class=\"data row5 col5\" >False</td> \n",
       "        <td id=\"T_f0b835fe_8c3d_11e8_aee9_8c85908ae04drow5_col6\" class=\"data row5 col6\" >False</td> \n",
       "        <td id=\"T_f0b835fe_8c3d_11e8_aee9_8c85908ae04drow5_col7\" class=\"data row5 col7\" >False</td> \n",
       "    </tr>    <tr> \n",
       "        <th id=\"T_f0b835fe_8c3d_11e8_aee9_8c85908ae04dlevel0_row6\" class=\"row_heading level0 row6\" >6</th> \n",
       "        <td id=\"T_f0b835fe_8c3d_11e8_aee9_8c85908ae04drow6_col0\" class=\"data row6 col0\" >False</td> \n",
       "        <td id=\"T_f0b835fe_8c3d_11e8_aee9_8c85908ae04drow6_col1\" class=\"data row6 col1\" >False</td> \n",
       "        <td id=\"T_f0b835fe_8c3d_11e8_aee9_8c85908ae04drow6_col2\" class=\"data row6 col2\" >False</td> \n",
       "        <td id=\"T_f0b835fe_8c3d_11e8_aee9_8c85908ae04drow6_col3\" class=\"data row6 col3\" >False</td> \n",
       "        <td id=\"T_f0b835fe_8c3d_11e8_aee9_8c85908ae04drow6_col4\" class=\"data row6 col4\" >False</td> \n",
       "        <td id=\"T_f0b835fe_8c3d_11e8_aee9_8c85908ae04drow6_col5\" class=\"data row6 col5\" >False</td> \n",
       "        <td id=\"T_f0b835fe_8c3d_11e8_aee9_8c85908ae04drow6_col6\" class=\"data row6 col6\" >True</td> \n",
       "        <td id=\"T_f0b835fe_8c3d_11e8_aee9_8c85908ae04drow6_col7\" class=\"data row6 col7\" >False</td> \n",
       "    </tr>    <tr> \n",
       "        <th id=\"T_f0b835fe_8c3d_11e8_aee9_8c85908ae04dlevel0_row7\" class=\"row_heading level0 row7\" >7</th> \n",
       "        <td id=\"T_f0b835fe_8c3d_11e8_aee9_8c85908ae04drow7_col0\" class=\"data row7 col0\" >False</td> \n",
       "        <td id=\"T_f0b835fe_8c3d_11e8_aee9_8c85908ae04drow7_col1\" class=\"data row7 col1\" >False</td> \n",
       "        <td id=\"T_f0b835fe_8c3d_11e8_aee9_8c85908ae04drow7_col2\" class=\"data row7 col2\" >False</td> \n",
       "        <td id=\"T_f0b835fe_8c3d_11e8_aee9_8c85908ae04drow7_col3\" class=\"data row7 col3\" >False</td> \n",
       "        <td id=\"T_f0b835fe_8c3d_11e8_aee9_8c85908ae04drow7_col4\" class=\"data row7 col4\" >False</td> \n",
       "        <td id=\"T_f0b835fe_8c3d_11e8_aee9_8c85908ae04drow7_col5\" class=\"data row7 col5\" >False</td> \n",
       "        <td id=\"T_f0b835fe_8c3d_11e8_aee9_8c85908ae04drow7_col6\" class=\"data row7 col6\" >True</td> \n",
       "        <td id=\"T_f0b835fe_8c3d_11e8_aee9_8c85908ae04drow7_col7\" class=\"data row7 col7\" >False</td> \n",
       "    </tr></tbody> \n",
       "</table> "
      ],
      "text/plain": [
       "<pandas.io.formats.style.Styler at 0x11bba7630>"
      ]
     },
     "execution_count": 17,
     "metadata": {},
     "output_type": "execute_result"
    }
   ],
   "source": [
    "cash.style.apply(_highlight_true)"
   ]
  },
  {
   "cell_type": "markdown",
   "metadata": {},
   "source": [
    "## Parsing concession body"
   ]
  },
  {
   "cell_type": "code",
   "execution_count": 19,
   "metadata": {},
   "outputs": [
    {
     "data": {
      "text/html": [
       "<div>\n",
       "<style scoped>\n",
       "    .dataframe tbody tr th:only-of-type {\n",
       "        vertical-align: middle;\n",
       "    }\n",
       "\n",
       "    .dataframe tbody tr th {\n",
       "        vertical-align: top;\n",
       "    }\n",
       "\n",
       "    .dataframe thead th {\n",
       "        text-align: right;\n",
       "    }\n",
       "</style>\n",
       "<table border=\"1\" class=\"dataframe\">\n",
       "  <thead>\n",
       "    <tr style=\"text-align: right;\">\n",
       "      <th></th>\n",
       "      <th>Concession Offered (Months)</th>\n",
       "      <th>Rent Concession Type</th>\n",
       "      <th>Lease Terms</th>\n",
       "      <th>descr</th>\n",
       "    </tr>\n",
       "  </thead>\n",
       "  <tbody>\n",
       "    <tr>\n",
       "      <th>0</th>\n",
       "      <td>1.0</td>\n",
       "      <td>month free</td>\n",
       "      <td>12.0</td>\n",
       "      <td>* 1 Month Free upfront on a 12 month lease*  E...</td>\n",
       "    </tr>\n",
       "    <tr>\n",
       "      <th>1</th>\n",
       "      <td>NaN</td>\n",
       "      <td>NaN</td>\n",
       "      <td>NaN</td>\n",
       "      <td>**1/2 BROKER FEE!***\\r 3Br railroad with direc...</td>\n",
       "    </tr>\n",
       "    <tr>\n",
       "      <th>2</th>\n",
       "      <td>NaN</td>\n",
       "      <td>NaN</td>\n",
       "      <td>NaN</td>\n",
       "      <td>just a normal sale with no concessions whatsoe...</td>\n",
       "    </tr>\n",
       "    <tr>\n",
       "      <th>3</th>\n",
       "      <td>1.0</td>\n",
       "      <td>month free</td>\n",
       "      <td>12.0</td>\n",
       "      <td>*Price listed is net effective with 1 month fr...</td>\n",
       "    </tr>\n",
       "    <tr>\n",
       "      <th>4</th>\n",
       "      <td>2.0</td>\n",
       "      <td>month free</td>\n",
       "      <td>12.0</td>\n",
       "      <td>BKLYN GOLD IS NOW OFFERING 2 MONTH FREE ON ALL...</td>\n",
       "    </tr>\n",
       "    <tr>\n",
       "      <th>5</th>\n",
       "      <td>NaN</td>\n",
       "      <td>NaN</td>\n",
       "      <td>NaN</td>\n",
       "      <td>Are you looking for a large 1BR in north Willi...</td>\n",
       "    </tr>\n",
       "    <tr>\n",
       "      <th>6</th>\n",
       "      <td>NaN</td>\n",
       "      <td>NaN</td>\n",
       "      <td>NaN</td>\n",
       "      <td>*We would like to offer a $500 gift card to ou...</td>\n",
       "    </tr>\n",
       "    <tr>\n",
       "      <th>7</th>\n",
       "      <td>NaN</td>\n",
       "      <td>NaN</td>\n",
       "      <td>NaN</td>\n",
       "      <td>*We would like to offer a $500 gift card to ou...</td>\n",
       "    </tr>\n",
       "  </tbody>\n",
       "</table>\n",
       "</div>"
      ],
      "text/plain": [
       "   Concession Offered (Months) Rent Concession Type  Lease Terms  \\\n",
       "0                          1.0           month free         12.0   \n",
       "1                          NaN                  NaN          NaN   \n",
       "2                          NaN                  NaN          NaN   \n",
       "3                          1.0           month free         12.0   \n",
       "4                          2.0           month free         12.0   \n",
       "5                          NaN                  NaN          NaN   \n",
       "6                          NaN                  NaN          NaN   \n",
       "7                          NaN                  NaN          NaN   \n",
       "\n",
       "                                               descr  \n",
       "0  * 1 Month Free upfront on a 12 month lease*  E...  \n",
       "1  **1/2 BROKER FEE!***\\r 3Br railroad with direc...  \n",
       "2  just a normal sale with no concessions whatsoe...  \n",
       "3  *Price listed is net effective with 1 month fr...  \n",
       "4  BKLYN GOLD IS NOW OFFERING 2 MONTH FREE ON ALL...  \n",
       "5  Are you looking for a large 1BR in north Willi...  \n",
       "6  *We would like to offer a $500 gift card to ou...  \n",
       "7  *We would like to offer a $500 gift card to ou...  "
      ]
     },
     "execution_count": 19,
     "metadata": {},
     "output_type": "execute_result"
    }
   ],
   "source": [
    "identify_concession(tests).join(tests)"
   ]
  }
 ],
 "metadata": {
  "anaconda-cloud": {},
  "kernelspec": {
   "display_name": "Python 3",
   "language": "python",
   "name": "python3"
  },
  "language_info": {
   "codemirror_mode": {
    "name": "ipython",
    "version": 3
   },
   "file_extension": ".py",
   "mimetype": "text/x-python",
   "name": "python",
   "nbconvert_exporter": "python",
   "pygments_lexer": "ipython3",
   "version": "3.6.5"
  }
 },
 "nbformat": 4,
 "nbformat_minor": 2
}
